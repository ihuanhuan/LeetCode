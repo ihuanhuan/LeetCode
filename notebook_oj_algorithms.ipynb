{
  "nbformat": 4,
  "nbformat_minor": 0,
  "metadata": {
    "colab": {
      "name": "notebook_oj_algorithms.ipynb",
      "provenance": [],
      "collapsed_sections": [],
      "authorship_tag": "ABX9TyNmzDbvg1E0DTO/E4tjDI+q"
    },
    "kernelspec": {
      "name": "python3",
      "display_name": "Python 3"
    },
    "language_info": {
      "name": "python"
    }
  },
  "cells": [
    {
      "cell_type": "code",
      "execution_count": null,
      "metadata": {
        "id": "suE_khvSnkHF"
      },
      "outputs": [],
      "source": [
        ""
      ]
    },
    {
      "cell_type": "markdown",
      "source": [
        "### 2-1 数字盒子\n",
        "\n",
        "https://leetcode.cn/problems/insert-delete-getrandom-o1/solution/by-mercy811-9xgo/"
      ],
      "metadata": {
        "id": "eWhDGOhToB2g"
      }
    }
  ]
}