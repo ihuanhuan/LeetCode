{
  "nbformat": 4,
  "nbformat_minor": 0,
  "metadata": {
    "colab": {
      "name": "notebook_oj_algorithms.ipynb",
      "provenance": [],
      "collapsed_sections": [],
      "authorship_tag": "ABX9TyNNz1Lfif8z0spsDv0f+6mq",
      "include_colab_link": true
    },
    "kernelspec": {
      "name": "python3",
      "display_name": "Python 3"
    },
    "language_info": {
      "name": "python"
    }
  },
  "cells": [
    {
      "cell_type": "markdown",
      "metadata": {
        "id": "view-in-github",
        "colab_type": "text"
      },
      "source": [
        "<a href=\"https://colab.research.google.com/github/ihuanhuan/LeetCode/blob/main/notebook_oj_algorithms.ipynb\" target=\"_parent\"><img src=\"https://colab.research.google.com/assets/colab-badge.svg\" alt=\"Open In Colab\"/></a>"
      ]
    },
    {
      "cell_type": "markdown",
      "source": [
        "### 1-1 二叉树，二叉搜索树构建和遍历\n",
        "二叉搜索树的概念（略）\n",
        "\n",
        "优势 - 每一次对比，搜索广度缩小（一半），时间复杂度大O(height)，大O(logn)\n",
        "\n",
        "劣势 - 树结构左右不平衡，最差情况是退化链表的树\n",
        "\n",
        "【插入操作】\n",
        "- 根不存在，新建节点\n",
        "- 根存在下，对比插入元素和根节点大小关系，大于则继续右行，小于则左行\n",
        "\n",
        "【打印操作】（前序遍历，根左右为例）\n",
        "- 开辟空间，储存结果\n",
        "- 建立preorder()函数\n",
        "  - 定义递归基：若根为空，直接返回\n",
        "  - 打印/存储根节点信息 （1）\n",
        "  - 接着，按照左右顺序，依次递归调用左右子树 （2）（3）\n",
        "- 其他中序遍历、后续遍历类似，注意（1）（2）（3）次序\n"
      ],
      "metadata": {
        "id": "2hXHfKjVQDXZ"
      }
    },
    {
      "cell_type": "markdown",
      "source": [
        "### 1-2 排序，数字盒子\n",
        "策略一：二分查找 \n",
        "\n",
        "- 课程：第2部分 （2B） PART1 9:12——20：30（视频时段）\n",
        "\n",
        "- 拓展（如何运用思想）：把序列分成2份，每一份再继续拆分\n",
        "\n",
        "策略二：结合数组和哈希表高效获得元素\n",
        "- 相关力扣 题380：O(1) 时间插入、删除和获取随机元素\n",
        "- 相关思路 https://leetcode.cn/problems/insert-delete-getrandom-o1/solution/by-mercy811-9xgo/\n",
        "  - 底层容器，数组，存放元素\n",
        "  - 结合哈希，元素:索引（key:value）\n",
        "  - 插入操作，数组增加元素，哈希表增加{元素:索引}\n",
        "  - 删除操作，查询哈希表（确认存在性），获得索引，获得元素，目标元素与队尾元素互换位置，更新哈希，更新数组\n"
      ],
      "metadata": {
        "id": "eWhDGOhToB2g"
      }
    },
    {
      "cell_type": "markdown",
      "source": [
        "### 1-2 成绩排序，统计逆序对\n",
        "任务目标，一组序列，需要统计所有逆序对的数目\n",
        "- 建立学生学号数组\n",
        "- 设计一层映射，学生的学号对应[总成绩0，优选成绩1，次选成绩2]\n",
        "- 排序时，若第i项分数一致则仅一步比较第i+1项\n",
        "- 对学生学号数组整理顺序，同时对逆序对数目进行统计"
      ],
      "metadata": {
        "id": "65b_UBTMePwZ"
      }
    },
    {
      "cell_type": "markdown",
      "source": [
        "### 2-2 序列计数再理解\n",
        "任务目标：计算序列中的连续子序列（长度大于1），满足条件，最大值和最小值之差<=给定距离d\n",
        "\n",
        "结果 = 左区间的目标 + 右区间的目标 + 跨区间的目标\n",
        "- 求解跨区间目标\n",
        "  - 将左右区间的最大最小值分别存储\n",
        "  - 考虑跨区间，是由mid向左及向右两部分组合的，因此要区别最小最大值的比较顺序\n",
        "  - 具体，对于右侧，初始化为arr（mid+1），对于区间[mid+1, mid+i+1) 最值为max[mx[mid+i-1], arr[mid+i]])\n",
        "  - 而对于左侧，初始化为arr（mid），对于区间[mid-i, mid+1) 最值为max[mx[mid-i+1], arr[mid-i]])\n",
        "- 在计数任务\n",
        "  - 利用到右端点单调性，[a, b, c, f] 满足<=d，那么更短的子区间也必然满足\n",
        "  - 从而减去不必要的计算（减而治之）"
      ],
      "metadata": {
        "id": "XtjZbuduefAt"
      }
    },
    {
      "cell_type": "markdown",
      "source": [
        "### 1-3 最小（大）生成树，道路升级\n",
        "\n",
        "策略一：最大生成树\n",
        "\n",
        "- 首先，将无向边的权重排序\n",
        "- 创建并查集（节点关系），创建集合S（边的信息）\n",
        "- 加入前两项最小（大）值，关联顶点，更新并查集，更新集合S\n",
        "- 构建循环体，按权重次序，查询集合归属\n",
        "  - 跳过已关联的节点组合\n",
        "  - 直到有（n-1）条边被添加，n为全部节点数\n",
        "\n",
        "- 参考网址 https://www.javatpoint.com/kruskals-minimum-spanning-tree-algorithm\n",
        "\n",
        "（本题中，具体使用最大生成树，连接所有城市，简化模型中ABC三点成环，那么载重量最小的道路不会被选择）\n"
      ],
      "metadata": {
        "id": "B0OEWdfStIBA"
      }
    },
    {
      "cell_type": "markdown",
      "source": [
        "### 2-1 二分算法，分组，联系2-3楼尔邦德\n",
        "\n",
        "策略一: 二分算法\n",
        "- 设定查找的区间范围\n",
        "- 取中间数\n",
        "- 若查找成功，直接返回中间数\n",
        "- 若查找失败，根据和目标的大小关系，更新下一步迭代的区间\n",
        "  - 小于目标值，舍弃左区间\n",
        "  - 大于目标值，舍弃右区间\n",
        "  - 直到左右边界指针交叉，区间不存在\n",
        "- 前提工作，将查找序列排序，二分查找仅支持有序数组\n",
        "\n",
        "题型楼尔邦德对比“分组”\n",
        "- 楼尔邦德，基础型二分算法，注意无解的特殊情况\n",
        "- 分组，增加一层函数，考察function(mid)与目标值的关系\n"
      ],
      "metadata": {
        "id": "PsJGtzs9bRDd"
      }
    }
  ]
}