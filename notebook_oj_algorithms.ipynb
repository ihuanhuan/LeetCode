{
  "nbformat": 4,
  "nbformat_minor": 0,
  "metadata": {
    "colab": {
      "name": "notebook_oj_algorithms.ipynb",
      "provenance": [],
      "collapsed_sections": [],
      "authorship_tag": "ABX9TyP+smad+/d6RTcwZnu43h4l"
    },
    "kernelspec": {
      "name": "python3",
      "display_name": "Python 3"
    },
    "language_info": {
      "name": "python"
    }
  },
  "cells": [
    {
      "cell_type": "markdown",
      "source": [
        "### 2-1 排序，数字盒子\n",
        "策略一：二分查找 \n",
        "\n",
        "- 课程：第2部分 （2B） PART1 9:12——20：30（视频时段）\n",
        "\n",
        "- 拓展（如何运用思想）：把序列分成2份，每一份再继续拆分\n",
        "\n",
        "策略二：结合数组和哈希表高效获得元素\n",
        "- 相关力扣 题380：O(1) 时间插入、删除和获取随机元素\n",
        "- 相关思路 https://leetcode.cn/problems/insert-delete-getrandom-o1/solution/by-mercy811-9xgo/\n",
        "  - 底层容器，数组，存放元素\n",
        "  - 结合哈希，元素:索引（key:value）\n",
        "  - 插入操作，数组增加元素，哈希表增加{元素:索引}\n",
        "  - 删除操作，查询哈希表（确认存在性），获得索引，获得元素，目标元素与队尾元素互换位置，更新哈希，更新数组\n"
      ],
      "metadata": {
        "id": "eWhDGOhToB2g"
      }
    },
    {
      "cell_type": "markdown",
      "source": [
        "### 道路升级、分组、序列计数"
      ],
      "metadata": {
        "id": "B0OEWdfStIBA"
      }
    }
  ]
}