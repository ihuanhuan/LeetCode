{
  "nbformat": 4,
  "nbformat_minor": 0,
  "metadata": {
    "colab": {
      "name": "notebook_oj_algorithms.ipynb",
      "provenance": [],
      "collapsed_sections": [],
      "authorship_tag": "ABX9TyMWWv0Jo2Wq/0481UHmy3D/"
    },
    "kernelspec": {
      "name": "python3",
      "display_name": "Python 3"
    },
    "language_info": {
      "name": "python"
    }
  },
  "cells": [
    {
      "cell_type": "markdown",
      "source": [
        "### 2-1 排序，数字盒子\n",
        "策略一：二分查找 \n",
        "\n",
        "- 课程：第2部分 （2B） PART1 9:12——20：30（视频时段）\n",
        "\n",
        "- 拓展（如何运用思想）：把序列分成2份，每一份再继续拆分\n",
        "\n",
        "策略二：结合数组和哈希表高效获得元素\n",
        "- 相关力扣 题380：O(1) 时间插入、删除和获取随机元素\n",
        "- 相关思路 https://leetcode.cn/problems/insert-delete-getrandom-o1/solution/by-mercy811-9xgo/\n",
        "  - 底层容器，数组，存放元素\n",
        "  - 结合哈希，元素:索引（key:value）\n",
        "  - 插入操作，数组增加元素，哈希表增加{元素:索引}\n",
        "  - 删除操作，查询哈希表（确认存在性），获得索引，获得元素，目标元素与队尾元素互换位置，更新哈希，更新数组\n"
      ],
      "metadata": {
        "id": "eWhDGOhToB2g"
      }
    },
    {
      "cell_type": "markdown",
      "source": [
        "### 1-3 最小（大）生成树，道路升级\n",
        "\n",
        "策略一：最大生成树\n",
        "\n",
        "- 首先，将无向边的权重排序\n",
        "- 创建并查集（节点关系），创建集合S（边的信息）\n",
        "- 加入前两项最小（大）值，关联顶点，更新并查集，更新集合S\n",
        "- 构建循环体，按权重次序，查询集合归属\n",
        "  - 跳过已关联的节点组合\n",
        "  - 直到有（n-1）条边被添加，n为全部节点数\n",
        "\n",
        "- 参考网址 https://www.javatpoint.com/kruskals-minimum-spanning-tree-algorithm\n",
        "\n",
        "（本题中，具体使用最大生成树，连接所有城市，简化模型中ABC三点成环，那么载重量最小的道路不会被选择）\n"
      ],
      "metadata": {
        "id": "B0OEWdfStIBA"
      }
    },
    {
      "cell_type": "markdown",
      "source": [
        "### 2-1 二分算法，分组，联系2-3楼尔邦德\n",
        "\n",
        "策略一: 二分算法\n",
        "- 设定查找的区间范围\n",
        "- 取中间数\n",
        "- 若查找成功，直接返回中间数\n",
        "- 若查找失败，根据和目标的大小关系，更新下一步迭代的区间\n",
        "  - 小于目标值，舍弃左区间\n",
        "  - 大于目标值，舍弃右区间\n",
        "  - 直到左右边界指针交叉，区间不存在\n",
        "- 前提工作，将查找序列排序，二分查找仅支持有序数组\n",
        "\n",
        "题型楼尔邦德对比“分组”\n",
        "- 楼尔邦德，基础型二分算法，注意无解的特殊情况\n",
        "- 分组，增加一层函数，考察function(mid)与目标值的关系\n"
      ],
      "metadata": {
        "id": "PsJGtzs9bRDd"
      }
    },
    {
      "cell_type": "markdown",
      "source": [
        "### 2-2 序列计数\n",
        "\n",
        "未总结"
      ],
      "metadata": {
        "id": "2Tejjxh_bIOl"
      }
    }
  ]
}